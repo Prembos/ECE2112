{
 "cells": [
  {
   "cell_type": "markdown",
   "id": "d9b3baa4-f775-4c7c-ba60-9ea78651144c",
   "metadata": {},
   "source": [
    "# ALPHABET SOUP PROBLEM"
   ]
  },
  {
   "cell_type": "code",
   "execution_count": 29,
   "id": "756ce8fc-5d4a-4cc9-8829-10ba24575e7e",
   "metadata": {},
   "outputs": [],
   "source": [
    "def alphabetical_order(all_in_order):\n",
    "    return \"\".join(sorted(all_in_order))"
   ]
  },
  {
   "cell_type": "code",
   "execution_count": 49,
   "id": "4541876a-4bcf-465b-9818-03b35901b3f1",
   "metadata": {},
   "outputs": [
    {
     "name": "stdin",
     "output_type": "stream",
     "text": [
      "Enter anything: Rumbanini\n"
     ]
    }
   ],
   "source": [
    "unordered_input = input(\"Enter anything:\" )"
   ]
  },
  {
   "cell_type": "code",
   "execution_count": 51,
   "id": "1e860704-72e4-4f62-91ad-340afdccc66f",
   "metadata": {},
   "outputs": [],
   "source": [
    "ordered_input = alphabetical_order(unordered_input)"
   ]
  },
  {
   "cell_type": "code",
   "execution_count": 53,
   "id": "55e33073-6eb1-4be8-a179-670cba270694",
   "metadata": {},
   "outputs": [
    {
     "name": "stdout",
     "output_type": "stream",
     "text": [
      "Rabiimnnu\n"
     ]
    }
   ],
   "source": [
    "print (ordered_input)"
   ]
  },
  {
   "cell_type": "markdown",
   "id": "99c27489-09cb-428d-8b3e-636bd0fd05ca",
   "metadata": {},
   "source": [
    "# EMOTICON PROBLEM"
   ]
  },
  {
   "cell_type": "code",
   "execution_count": 306,
   "id": "ba7df545-ca56-4278-a0fd-cba874d58c5d",
   "metadata": {},
   "outputs": [],
   "source": [
    "import string\n",
    "\n",
    "def emotify(sentence):\n",
    "        \n",
    "    emojis = {\n",
    "        \"smile\":\":)\",\n",
    "        \"grin\":\":D\",\n",
    "        \"sad\":\":((\",\n",
    "        \"mad\":\">:(\",\n",
    "        \"dinosaur\":\"🦖\",\n",
    "        \"car\":\"🚗\"\n",
    "}\n",
    "    words = sentence.split()\n",
    "    def no_punctuations(word):\n",
    "        stripped_word = word.strip(string.punctuation)\n",
    "        if stripped_word in emojis:\n",
    "            return emojis[stripped_word] + word[len(stripped_word):]\n",
    "        else:\n",
    "            return word\n",
    "    substitute = [no_punctuations(word) for word in words]\n",
    "    return\" \".join(substitute)"
   ]
  },
  {
   "cell_type": "code",
   "execution_count": 314,
   "id": "6583ff86-f6f2-4867-832f-30bff55a7228",
   "metadata": {},
   "outputs": [
    {
     "name": "stdin",
     "output_type": "stream",
     "text": [
      "Enter a sentence:  0\n"
     ]
    }
   ],
   "source": [
    "sample_sentence = input(\"Enter a sentence: \")"
   ]
  },
  {
   "cell_type": "code",
   "execution_count": 231,
   "id": "1dcc9f4f-dc1d-44e4-a6ad-a3fd7f9c5886",
   "metadata": {},
   "outputs": [
    {
     "name": "stdout",
     "output_type": "stream",
     "text": [
      "I'm a :(( 🦖. I want to :). But to be a 🦖 is to be a 🚗.\n"
     ]
    }
   ],
   "source": [
    "emotified_sentence = emotify(sample_sentence)\n",
    "print (emotified_sentence)"
   ]
  },
  {
   "cell_type": "markdown",
   "id": "7b2ff647-92b3-4c5d-b1d4-83296da683ec",
   "metadata": {},
   "source": [
    "# UNPACKING LIST PROBLEM"
   ]
  },
  {
   "cell_type": "code",
   "execution_count": 292,
   "id": "b3d9f4e8-1469-4c4d-889c-8481a8cad33b",
   "metadata": {},
   "outputs": [],
   "source": [
    "def the_list_unpacker(x):\n",
    "    \n",
    "    if len(x) == 0:\n",
    "        print(\"Why is the list empty?\")\n",
    "        return\n",
    "\n",
    "    if len(x) == 1:\n",
    "        print(\"One element isn't gonna do anything, you know?\")\n",
    "        return\n",
    "\n",
    "    if len(x) == 2:\n",
    "        print(\"There are only two elements:\", x[0], \"and\", x[1])\n",
    "        return\n",
    "    \n",
    "    first = x[0]\n",
    "    last = x[len(x) - 1]\n",
    "    middle = []\n",
    "    for i in range (1, len(x) - 1):\n",
    "        middle.append(x[i])\n",
    "    x.pop(0)\n",
    "    x.pop(-1)\n",
    "    print(\"First\", first)\n",
    "    print(\"Middle\", middle)\n",
    "    print(\"Last\", last)\n",
    "\n"
   ]
  },
  {
   "cell_type": "code",
   "execution_count": 328,
   "id": "7bbb9d05-c133-4250-b4ee-022e5702820a",
   "metadata": {},
   "outputs": [
    {
     "name": "stdin",
     "output_type": "stream",
     "text": [
      "Enter a list of numbers separated by spaces. Numbers, ok?  1 2 9 3 3\n"
     ]
    },
    {
     "name": "stdout",
     "output_type": "stream",
     "text": [
      "First 1\n",
      "Middle [2, 9, 3]\n",
      "Last 3\n"
     ]
    }
   ],
   "source": [
    "writeyourstrhere = input(\"Enter a list of numbers separated by spaces. Numbers, ok? \")\n",
    "try:\n",
    "    writeyourcodehere = list(map(int, writeyourstrhere.split()))\n",
    "    the_list_unpacker(writeyourcodehere)\n",
    "except ValueError:\n",
    "    print(\"beki alert\")"
   ]
  },
  {
   "cell_type": "code",
   "execution_count": 296,
   "id": "06ee6d4c-f338-40b1-a531-965919d119fc",
   "metadata": {},
   "outputs": [
    {
     "name": "stdout",
     "output_type": "stream",
     "text": [
      "First 1\n",
      "Middle [2, 3, 4, 5]\n",
      "Last 6\n"
     ]
    }
   ],
   "source": []
  },
  {
   "cell_type": "code",
   "execution_count": null,
   "id": "5b49f06a-1890-4684-8b42-ff0b1625d698",
   "metadata": {},
   "outputs": [],
   "source": []
  }
 ],
 "metadata": {
  "kernelspec": {
   "display_name": "Python 3 (ipykernel)",
   "language": "python",
   "name": "python3"
  },
  "language_info": {
   "codemirror_mode": {
    "name": "ipython",
    "version": 3
   },
   "file_extension": ".py",
   "mimetype": "text/x-python",
   "name": "python",
   "nbconvert_exporter": "python",
   "pygments_lexer": "ipython3",
   "version": "3.12.4"
  }
 },
 "nbformat": 4,
 "nbformat_minor": 5
}
