{
 "cells": [
  {
   "cell_type": "markdown",
   "id": "f2274645-5e6a-4403-972c-2bca22666dd7",
   "metadata": {},
   "source": [
    "# NORMALIZATION PROBLEM"
   ]
  },
  {
   "cell_type": "code",
   "execution_count": 2,
   "id": "6c5e98c7-3a5b-41d3-99bb-5447f2bc4af1",
   "metadata": {},
   "outputs": [],
   "source": [
    "import numpy as np"
   ]
  },
  {
   "cell_type": "code",
   "execution_count": 30,
   "id": "62882a0c-343a-42aa-9b76-c826c4c22079",
   "metadata": {},
   "outputs": [],
   "source": [
    "X = np.random.random((5,5))\n",
    "Z = (X - X.mean())/X.std()\n",
    "np.save('X_normalized.npy', Z)"
   ]
  },
  {
   "cell_type": "code",
   "execution_count": 32,
   "id": "6dad785c-0f18-482f-afb6-91aebb09d174",
   "metadata": {},
   "outputs": [
    {
     "data": {
      "text/plain": [
       "array([[-0.04981045, -1.07185517, -0.24283244,  0.75036447, -0.16201171],\n",
       "       [ 0.64126235, -0.22249694,  0.8096391 ,  1.72523702, -1.2673554 ],\n",
       "       [-0.90515824, -1.4179732 ,  0.00931478,  0.38485068, -1.28729553],\n",
       "       [ 0.27343053,  0.54994795,  0.45704131,  1.56709102, -1.48709333],\n",
       "       [-0.20553447, -1.40490689,  1.4216586 , -0.64359601,  1.77808198]])"
      ]
     },
     "execution_count": 32,
     "metadata": {},
     "output_type": "execute_result"
    }
   ],
   "source": [
    "np.load('X_normalized.npy')"
   ]
  },
  {
   "cell_type": "markdown",
   "id": "37fcd168-0835-4767-916d-ce5e5349b208",
   "metadata": {},
   "source": [
    "# DIVISIBLE BY 3 PROBLEM"
   ]
  },
  {
   "cell_type": "code",
   "execution_count": 89,
   "id": "d56923bf-9c51-486a-a71c-13a3a1f6d653",
   "metadata": {},
   "outputs": [],
   "source": [
    "integers = np.arange(1,101)\n",
    "squared_integers = integers**2\n",
    "matrix = squared_integers.reshape(10,10)\n",
    "divided_matrix_numbers = matrix[np.mod(matrix,3)==0]\n",
    "divided_matrix_boolean = np.mod(matrix,3)==0\n",
    "np.save('div_by_3', divided_matrix_numbers)\n",
    "np.save('div_by_3_bool', divided_matrix_boolean)"
   ]
  },
  {
   "cell_type": "code",
   "execution_count": 95,
   "id": "c0bc3482-d8b5-4802-8b1e-7d9d6b026475",
   "metadata": {},
   "outputs": [
    {
     "data": {
      "text/plain": [
       "array([   9,   36,   81,  144,  225,  324,  441,  576,  729,  900, 1089,\n",
       "       1296, 1521, 1764, 2025, 2304, 2601, 2916, 3249, 3600, 3969, 4356,\n",
       "       4761, 5184, 5625, 6084, 6561, 7056, 7569, 8100, 8649, 9216, 9801])"
      ]
     },
     "execution_count": 95,
     "metadata": {},
     "output_type": "execute_result"
    }
   ],
   "source": [
    "np.load('div_by_3.npy')"
   ]
  },
  {
   "cell_type": "code",
   "execution_count": 97,
   "id": "d5ff3023-21b8-4ffd-bd65-628fcc831846",
   "metadata": {},
   "outputs": [
    {
     "data": {
      "text/plain": [
       "array([[False, False,  True, False, False,  True, False, False,  True,\n",
       "        False],\n",
       "       [False,  True, False, False,  True, False, False,  True, False,\n",
       "        False],\n",
       "       [ True, False, False,  True, False, False,  True, False, False,\n",
       "         True],\n",
       "       [False, False,  True, False, False,  True, False, False,  True,\n",
       "        False],\n",
       "       [False,  True, False, False,  True, False, False,  True, False,\n",
       "        False],\n",
       "       [ True, False, False,  True, False, False,  True, False, False,\n",
       "         True],\n",
       "       [False, False,  True, False, False,  True, False, False,  True,\n",
       "        False],\n",
       "       [False,  True, False, False,  True, False, False,  True, False,\n",
       "        False],\n",
       "       [ True, False, False,  True, False, False,  True, False, False,\n",
       "         True],\n",
       "       [False, False,  True, False, False,  True, False, False,  True,\n",
       "        False]])"
      ]
     },
     "execution_count": 97,
     "metadata": {},
     "output_type": "execute_result"
    }
   ],
   "source": [
    "np.load('div_by_3_bool.npy')"
   ]
  },
  {
   "cell_type": "code",
   "execution_count": null,
   "id": "b80981c5-ae18-4192-a3a3-f086a9d7fbff",
   "metadata": {},
   "outputs": [],
   "source": []
  }
 ],
 "metadata": {
  "kernelspec": {
   "display_name": "Python 3 (ipykernel)",
   "language": "python",
   "name": "python3"
  },
  "language_info": {
   "codemirror_mode": {
    "name": "ipython",
    "version": 3
   },
   "file_extension": ".py",
   "mimetype": "text/x-python",
   "name": "python",
   "nbconvert_exporter": "python",
   "pygments_lexer": "ipython3",
   "version": "3.12.4"
  }
 },
 "nbformat": 4,
 "nbformat_minor": 5
}
